{
 "cells": [
  {
   "cell_type": "code",
   "execution_count": 20,
   "id": "6312e0e6",
   "metadata": {},
   "outputs": [],
   "source": [
    "from pyspark.sql import *\n",
    "from pyspark.sql.functions import regexp_replace, col\n",
    "\n",
    "spark = SparkSession \\\n",
    "    .Builder() \\\n",
    "    .master(\"local[*]\") \\\n",
    "    .appName(\"Map&Filter(RDD)\") \\\n",
    "    .getOrCreate()"
   ]
  },
  {
   "cell_type": "code",
   "execution_count": 21,
   "id": "e4f1fc22",
   "metadata": {},
   "outputs": [],
   "source": [
    "df = spark.read.csv(\"/Users/dangvu/My_Project/Data/products.csv\", header=True, inferSchema=True)"
   ]
  },
  {
   "cell_type": "code",
   "execution_count": 31,
   "id": "19f19b93",
   "metadata": {},
   "outputs": [
    {
     "data": {
      "text/plain": [
       "[Row(ID='EM9579', Tên sản phẩm='Đầm Suông Đen Phi cc', Giá='750.000\\xa0₫', Liên kết='https://vayemy.vn/chi-tiet/em9579-dam-suong-den-phi-cc', Hình ảnh='https://vayemy.vn/wp-content/uploads/2025/02/z6326384063968_414762ecbb0937ecf29c1e29a3f73f31-247x371.webp'),\n",
       " Row(ID='EM2113', Tên sản phẩm='Đầm Xoè Đỏ Kết Đá', Giá='780.000\\xa0₫', Liên kết='https://vayemy.vn/chi-tiet/em2113-dam-xoe-do-ket-da', Hình ảnh='https://vayemy.vn/wp-content/uploads/2025/02/z6283389324224_11b12d1d2239a2b27442d147e1d9c005-247x371.webp'),\n",
       " Row(ID='EM7669', Tên sản phẩm='Đầm Xoè Trắng Linen', Giá='780.000\\xa0₫', Liên kết='https://vayemy.vn/chi-tiet/em7669-dam-xoe-trang-linen', Hình ảnh='https://vayemy.vn/wp-content/uploads/2025/02/z6306640080052_82b6a9ca390aa78cd0efea68abba7355-247x371.webp'),\n",
       " Row(ID='EM9542', Tên sản phẩm='Đầm Xoè Phối Hoa Xanh+ Đen', Giá='640.000\\xa0₫', Liên kết='https://vayemy.vn/chi-tiet/em9542-dam-xoe-phoi-hoa-xanh-den', Hình ảnh='https://vayemy.vn/wp-content/uploads/2025/01/z6304296801823_82ccdfe8624f1b74aa817c37a5709951-247x371.webp'),\n",
       " Row(ID='EM9565', Tên sản phẩm='Đầm dự tiệc suông Xanh lá', Giá='720.000\\xa0₫', Liên kết='https://vayemy.vn/chi-tiet/em9565-dam-du-tiec-suong-xanh-la', Hình ảnh='https://vayemy.vn/wp-content/uploads/2025/01/z6310147553946_4588e0edf88ffe81475c56396a33b8a3-247x371.webp'),\n",
       " Row(ID='EM2096', Tên sản phẩm='Đầm Tuyết Cotton Xanh Lá Kết Cườm', Giá='750.000\\xa0₫', Liên kết='https://vayemy.vn/chi-tiet/em2096-dam-tuyet-cotton-xanh-la-ket-cuom', Hình ảnh='https://vayemy.vn/wp-content/uploads/2025/01/em2096-dam-tuyet-cotton-xanh-la-ket-cuom-2-247x371.webp'),\n",
       " Row(ID='EM9577', Tên sản phẩm='Đầm Xoè A Gấm Hoa', Giá='680.000\\xa0₫', Liên kết='https://vayemy.vn/chi-tiet/em9577-dam-xoe-a-gam-hoa', Hình ảnh='https://vayemy.vn/wp-content/uploads/2025/01/z6303274937027_ed198fc88eac57c1d500d1aa316750c4-247x371.webp'),\n",
       " Row(ID='EM2101', Tên sản phẩm='Đầm xoè Gấm Hoa Vàng', Giá='750.000\\xa0₫', Liên kết='https://vayemy.vn/chi-tiet/em2101-dam-xoe-gam-hoa-vang', Hình ảnh='https://vayemy.vn/wp-content/uploads/2024/12/EM2101-3-Dam-xoe-Gam-Hoa-Vang-247x371.webp'),\n",
       " Row(ID='EM2064', Tên sản phẩm='Sắc xanh quý phái', Giá='680.000\\xa0₫', Liên kết='https://vayemy.vn/chi-tiet/em2064-sac-xanh-quy-phai', Hình ảnh='https://vayemy.vn/wp-content/uploads/2024/10/2064-1-of-5-247x371.jpg'),\n",
       " Row(ID='EM2060', Tên sản phẩm='Đầm A Tafta Cổ Vuông – Sự Kết Hợp Hoàn Hảo Giữa Sang Trọng và Tinh Tế', Giá='720.000\\xa0₫', Liên kết='https://vayemy.vn/chi-tiet/em2060-dam-a-tafta-co-vuong-su-ket-hop-hoan-hao-giua-sang-trong-va-tinh-te', Hình ảnh='https://vayemy.vn/wp-content/uploads/2024/10/z5946300082134_273d284d08e57ebf4e0abf458c19f5fd-247x371.jpg'),\n",
       " Row(ID='EM9517', Tên sản phẩm='Sự tinh tế và quyến rũ từ đầm xòe vải voan họa tiết', Giá='680.000\\xa0₫', Liên kết='https://vayemy.vn/chi-tiet/em9517-su-tinh-te-va-quyen-ru-tu-dam-xoe-vai-voan-hoa-tiet', Hình ảnh='https://vayemy.vn/wp-content/uploads/2024/10/z5974791731735_4bd29c335a51c3841dbeeb6d342edafa-247x371.jpg'),\n",
       " Row(ID='EM7621', Tên sản phẩm='Đầm Xoè Dập Ply Phối Lưới', Giá='720.000\\xa0₫', Liên kết='https://vayemy.vn/chi-tiet/em7621-dam-xoe-dap-ply-phoi-luoi', Hình ảnh='https://vayemy.vn/wp-content/uploads/2024/10/z5938419304128_13cbce5cc78dc602b5c6228b8ee13286-247x371.jpg'),\n",
       " Row(ID='EM7620', Tên sản phẩm='Đầm Xoè Đen Tafta Xước', Giá='720.000\\xa0₫', Liên kết='https://vayemy.vn/chi-tiet/em7620-dam-xoe-den-tafta-xuoc', Hình ảnh='https://vayemy.vn/wp-content/uploads/2024/10/z5927928550797_ed4f52cf466334a5a1eb0830cccdfed8-247x371.jpg'),\n",
       " Row(ID='EM2047', Tên sản phẩm='Đầm Suông Linen Xanh Jean', Giá='680.000\\xa0₫', Liên kết='https://vayemy.vn/chi-tiet/em2047-dam-suong-linen-xanh-jean', Hình ảnh='https://vayemy.vn/wp-content/uploads/2024/10/z5928726894924_e0b671cec92301874777cf27bc1422e5-247x371.jpg'),\n",
       " Row(ID='EM7613', Tên sản phẩm='Sườn Xám Đen Hoa', Giá='720.000\\xa0₫', Liên kết='https://vayemy.vn/chi-tiet/em7613-suon-xam-den-hoa', Hình ảnh='https://vayemy.vn/wp-content/uploads/2024/10/z5887833721105_b646434942d595b16282cf46dfe568ef-247x371.jpg'),\n",
       " Row(ID='EM9490', Tên sản phẩm='Nét xuân thanh khiết', Giá='680.000\\xa0₫', Liên kết='https://vayemy.vn/chi-tiet/em9490-net-xuan-thanh-khiet', Hình ảnh='https://vayemy.vn/wp-content/uploads/2024/10/z5889584853379_ca7bf567dd233ce8947e6d5dc279957a-247x371.jpg'),\n",
       " Row(ID='EM2046', Tên sản phẩm='Đầm suông A cổ V xếp ly', Giá='680.000\\xa0₫', Liên kết='https://vayemy.vn/chi-tiet/em2046-dam-suong-a-co-v-xep-ly', Hình ảnh='https://vayemy.vn/wp-content/uploads/2024/09/z5929271602151_2c7c1a0b54524ae606cad7961a7496ec-247x371.jpg'),\n",
       " Row(ID='EM7615', Tên sản phẩm='Đầm Body Đuôi Cá Đen', Giá='680.000\\xa0₫', Liên kết='https://vayemy.vn/chi-tiet/em7615-dam-body-duoi-ca-den', Hình ảnh='https://vayemy.vn/wp-content/uploads/2024/09/z5865710391201_2fed461d0f4d12be988a1cf2896bced2-247x371.jpg'),\n",
       " Row(ID='EM7616', Tên sản phẩm='Đầm Body Đuôi Cá Xanh', Giá='680.000\\xa0₫', Liên kết='https://vayemy.vn/chi-tiet/em7616-dam-body-duoi-ca-xanh', Hình ảnh='https://vayemy.vn/wp-content/uploads/2024/09/z5852353380837_cae88c01cc5a764050b1b5dfe7d99472-247x371.jpg'),\n",
       " Row(ID='EM7611', Tên sản phẩm='Đầm Xoè Hoa Dập Ply', Giá='720.000\\xa0₫', Liên kết='https://vayemy.vn/chi-tiet/em7611-dam-xoe-hoa-dap-ply', Hình ảnh='https://vayemy.vn/wp-content/uploads/2024/09/z5852353869359_684e94a0c81eb4ef17b93633ae25e6bd-247x371.jpg')]"
      ]
     },
     "execution_count": 31,
     "metadata": {},
     "output_type": "execute_result"
    }
   ],
   "source": [
    "df.take(20)"
   ]
  },
  {
   "cell_type": "code",
   "execution_count": null,
   "id": "3e0fea9d",
   "metadata": {},
   "outputs": [
    {
     "name": "stdout",
     "output_type": "stream",
     "text": [
      "+------+--------------------------+------+-----------------------------------------------------------+---------------------------------------------------------------------------------------------------------+\n",
      "|ID    |Tên sản phẩm              |Giá   |Liên kết                                                   |Hình ảnh                                                                                                 |\n",
      "+------+--------------------------+------+-----------------------------------------------------------+---------------------------------------------------------------------------------------------------------+\n",
      "|EM9579|Đầm Suông Đen Phi cc      |750000|https://vayemy.vn/chi-tiet/em9579-dam-suong-den-phi-cc     |https://vayemy.vn/wp-content/uploads/2025/02/z6326384063968_414762ecbb0937ecf29c1e29a3f73f31-247x371.webp|\n",
      "|EM2113|Đầm Xoè Đỏ Kết Đá         |780000|https://vayemy.vn/chi-tiet/em2113-dam-xoe-do-ket-da        |https://vayemy.vn/wp-content/uploads/2025/02/z6283389324224_11b12d1d2239a2b27442d147e1d9c005-247x371.webp|\n",
      "|EM7669|Đầm Xoè Trắng Linen       |780000|https://vayemy.vn/chi-tiet/em7669-dam-xoe-trang-linen      |https://vayemy.vn/wp-content/uploads/2025/02/z6306640080052_82b6a9ca390aa78cd0efea68abba7355-247x371.webp|\n",
      "|EM9542|Đầm Xoè Phối Hoa Xanh+ Đen|640000|https://vayemy.vn/chi-tiet/em9542-dam-xoe-phoi-hoa-xanh-den|https://vayemy.vn/wp-content/uploads/2025/01/z6304296801823_82ccdfe8624f1b74aa817c37a5709951-247x371.webp|\n",
      "|EM9565|Đầm dự tiệc suông Xanh lá |720000|https://vayemy.vn/chi-tiet/em9565-dam-du-tiec-suong-xanh-la|https://vayemy.vn/wp-content/uploads/2025/01/z6310147553946_4588e0edf88ffe81475c56396a33b8a3-247x371.webp|\n",
      "+------+--------------------------+------+-----------------------------------------------------------+---------------------------------------------------------------------------------------------------------+\n",
      "only showing top 5 rows\n",
      "\n"
     ]
    }
   ],
   "source": [
    "#Xoá ký tự \\xa0₫ ở cốt giá\n",
    "df_clean = df.withColumn(\n",
    "    \"Giá\",\n",
    "    regexp_replace(col(\"Giá\"), \"[\\\\.₫\\\\u00A0]\", \"\")\n",
    ")\n",
    "df_clean.show(5, truncate=False)"
   ]
  },
  {
   "cell_type": "code",
   "execution_count": null,
   "id": "d1dc7e84",
   "metadata": {},
   "outputs": [
    {
     "name": "stdout",
     "output_type": "stream",
     "text": [
      "+------+---------------------------------------------------------------------+------+-----------------------------------------------------------------------------------------------------+---------------------------------------------------------------------------------------------------------+\n",
      "|ID    |Tên sản phẩm                                                         |Giá   |Liên kết                                                                                             |Hình ảnh                                                                                                 |\n",
      "+------+---------------------------------------------------------------------+------+-----------------------------------------------------------------------------------------------------+---------------------------------------------------------------------------------------------------------+\n",
      "|EM9579|Đầm Suông Đen Phi cc                                                 |750000|https://vayemy.vn/chi-tiet/em9579-dam-suong-den-phi-cc                                               |https://vayemy.vn/wp-content/uploads/2025/02/z6326384063968_414762ecbb0937ecf29c1e29a3f73f31-247x371.webp|\n",
      "|EM2113|Đầm Xoè Đỏ Kết Đá                                                    |780000|https://vayemy.vn/chi-tiet/em2113-dam-xoe-do-ket-da                                                  |https://vayemy.vn/wp-content/uploads/2025/02/z6283389324224_11b12d1d2239a2b27442d147e1d9c005-247x371.webp|\n",
      "|EM7669|Đầm Xoè Trắng Linen                                                  |780000|https://vayemy.vn/chi-tiet/em7669-dam-xoe-trang-linen                                                |https://vayemy.vn/wp-content/uploads/2025/02/z6306640080052_82b6a9ca390aa78cd0efea68abba7355-247x371.webp|\n",
      "|EM9565|Đầm dự tiệc suông Xanh lá                                            |720000|https://vayemy.vn/chi-tiet/em9565-dam-du-tiec-suong-xanh-la                                          |https://vayemy.vn/wp-content/uploads/2025/01/z6310147553946_4588e0edf88ffe81475c56396a33b8a3-247x371.webp|\n",
      "|EM2096|Đầm Tuyết Cotton Xanh Lá Kết Cườm                                    |750000|https://vayemy.vn/chi-tiet/em2096-dam-tuyet-cotton-xanh-la-ket-cuom                                  |https://vayemy.vn/wp-content/uploads/2025/01/em2096-dam-tuyet-cotton-xanh-la-ket-cuom-2-247x371.webp     |\n",
      "|EM2101|Đầm xoè Gấm Hoa Vàng                                                 |750000|https://vayemy.vn/chi-tiet/em2101-dam-xoe-gam-hoa-vang                                               |https://vayemy.vn/wp-content/uploads/2024/12/EM2101-3-Dam-xoe-Gam-Hoa-Vang-247x371.webp                  |\n",
      "|EM2060|Đầm A Tafta Cổ Vuông – Sự Kết Hợp Hoàn Hảo Giữa Sang Trọng và Tinh Tế|720000|https://vayemy.vn/chi-tiet/em2060-dam-a-tafta-co-vuong-su-ket-hop-hoan-hao-giua-sang-trong-va-tinh-te|https://vayemy.vn/wp-content/uploads/2024/10/z5946300082134_273d284d08e57ebf4e0abf458c19f5fd-247x371.jpg |\n",
      "|EM7621|Đầm Xoè Dập Ply Phối Lưới                                            |720000|https://vayemy.vn/chi-tiet/em7621-dam-xoe-dap-ply-phoi-luoi                                          |https://vayemy.vn/wp-content/uploads/2024/10/z5938419304128_13cbce5cc78dc602b5c6228b8ee13286-247x371.jpg |\n",
      "|EM7620|Đầm Xoè Đen Tafta Xước                                               |720000|https://vayemy.vn/chi-tiet/em7620-dam-xoe-den-tafta-xuoc                                             |https://vayemy.vn/wp-content/uploads/2024/10/z5927928550797_ed4f52cf466334a5a1eb0830cccdfed8-247x371.jpg |\n",
      "|EM7613|Sườn Xám Đen Hoa                                                     |720000|https://vayemy.vn/chi-tiet/em7613-suon-xam-den-hoa                                                   |https://vayemy.vn/wp-content/uploads/2024/10/z5887833721105_b646434942d595b16282cf46dfe568ef-247x371.jpg |\n",
      "+------+---------------------------------------------------------------------+------+-----------------------------------------------------------------------------------------------------+---------------------------------------------------------------------------------------------------------+\n",
      "only showing top 10 rows\n",
      "\n"
     ]
    }
   ],
   "source": [
    "df_clean.filter(col(\"Giá\") > 700000).show(10, truncate=False)"
   ]
  },
  {
   "cell_type": "code",
   "execution_count": 19,
   "id": "da38ecb1",
   "metadata": {},
   "outputs": [],
   "source": [
    "# Dừng SparkContext\n",
    "spark.stop()"
   ]
  }
 ],
 "metadata": {
  "kernelspec": {
   "display_name": "Python 3",
   "language": "python",
   "name": "python3"
  },
  "language_info": {
   "codemirror_mode": {
    "name": "ipython",
    "version": 3
   },
   "file_extension": ".py",
   "mimetype": "text/x-python",
   "name": "python",
   "nbconvert_exporter": "python",
   "pygments_lexer": "ipython3",
   "version": "3.13.2"
  }
 },
 "nbformat": 4,
 "nbformat_minor": 5
}
