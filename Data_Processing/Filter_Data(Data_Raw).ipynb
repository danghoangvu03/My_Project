{
 "cells": [
  {
   "cell_type": "code",
   "execution_count": 1,
   "id": "fb6010db",
   "metadata": {},
   "outputs": [],
   "source": [
    "from pyspark.sql import SparkSession\n",
    "from pyspark import SparkConf\n",
    "\n",
    "conf = SparkConf().set(\"spark.driver.bindAddress\", \"127.0.0.1\")\n",
    "\n",
    "spark = SparkSession.builder \\\n",
    "    .config(conf=conf) \\\n",
    "    .appName(\"my_project\") \\\n",
    "    .master(\"local[*]\") \\\n",
    "    .getOrCreate()\n"
   ]
  },
  {
   "cell_type": "code",
   "execution_count": null,
   "id": "0019a107",
   "metadata": {},
   "outputs": [],
   "source": [
    "\n",
    "df = spark.read.option(\"header\", True).option(\"multiLine\", True).option(\"inferSchema\", True).csv(\"Data_Raw.csv\")"
   ]
  },
  {
   "cell_type": "code",
   "execution_count": 6,
   "id": "35a7c452",
   "metadata": {},
   "outputs": [],
   "source": [
    "from pyspark.sql.functions import regexp_replace, col, trim"
   ]
  },
  {
   "cell_type": "code",
   "execution_count": 7,
   "id": "1b30f021",
   "metadata": {},
   "outputs": [],
   "source": [
    "df_cleaned = df.withColumn(\"Ghi Chú\",regexp_replace(col(\"Ghi Chú\"), r\"\\s/\\s\", \" \"))"
   ]
  },
  {
   "cell_type": "code",
   "execution_count": 8,
   "id": "501a7bd8",
   "metadata": {},
   "outputs": [],
   "source": [
    "df_cleaned1 = df_cleaned.withColumn(\"Ghi Chú\",trim(regexp_replace(col(\"Ghi Chú\"), r\"[\\r\\n]+\", \" \")))"
   ]
  },
  {
   "cell_type": "code",
   "execution_count": 9,
   "id": "7fae9680",
   "metadata": {},
   "outputs": [
    {
     "name": "stdout",
     "output_type": "stream",
     "text": [
      "+---+------------+------------+-----------+---------+----------+--------------+-------------+---------+----------+-------------+--------------------+--------------------+-----------+----------+-------+--------------------+-----------+-------------------+-------------+--------------------+----------+------+--------+------------+---------+---------+-------------+------------+-----------------+-----------+-------+\n",
      "|STT|Bưu Cục Nhận|Bưu Cục Phát|Mã Bưu Điện|Người Hủy|  Ngày Hủy|Người Xác Nhận|Ngày Xác Nhận|Người Tạo|  Ngày Tạo|Mã Khách Hàng|      Tên Khách Hàng|           Địa Chỉ|Mã Đơn Hàng|Khối Lượng|NGAY_KG|             Ghi Chú|Ghi Chú Hủy|Trạng Thái Đơn Hàng|Số Điện Thoại|        Tên Sản Phẩm|Tỉnh Thành|   Giá|Phí Ship|   Loại Ship|Tổng Cước|Tổng Tiền|Tổng Sản Phẩm|Người Chuyển|Ghi Chú Giao Hàng|Ngày Chuyển|Trị Giá|\n",
      "+---+------------+------------+-----------+---------+----------+--------------+-------------+---------+----------+-------------+--------------------+--------------------+-----------+----------+-------+--------------------+-----------+-------------------+-------------+--------------------+----------+------+--------+------------+---------+---------+-------------+------------+-----------------+-----------+-------+\n",
      "|  1|        NULL|        NULL| EMYA900519|     NULL|      NULL|    QUOCTHUONG|   12/05/2023|   system|12/05/2023|       495705|C. TẠP HÓA KHOA THỦY|Đôi 1 ấp Phước Tâ...|    A900519|      NULL|   NULL|tay ao chật đo th...|       NULL|        Chuyển hoàn|    385057641|1 EM7108 Đầm Xoè ...|Bình Phước|630000|       0|VIETTEL POST|        0|   630000|            1|    NGOCBICH|               XL| 12/05/2023| 630000|\n",
      "|  2|        NULL|        NULL| EMYA900537|THANHNHAN|12/05/2023|     THANHNHAN|   12/05/2023|   system|12/05/2023|       600811| CHỊ DƯƠNG THỊ HƯƠNG|QUẦY THUỐC DƯƠNG ...|    A900537|      NULL|   NULL|hối giao 13/5/ . ...|       NULL|        Chuyển hoàn|    985806760|1 EM6838 Đầm Xoè ...|  Lạng Sơn|299000|       0|VIETTEL POST|        0|   649000|            2|    NGOCBICH|      2 L 6972 QT| 12/05/2023| 649000|\n",
      "|  3|        NULL|        NULL| EMYA900537|THANHNHAN|12/05/2023|     THANHNHAN|   12/05/2023|   system|12/05/2023|       600811| CHỊ DƯƠNG THỊ HƯƠNG|QUẦY THUỐC DƯƠNG ...|    A900537|      NULL|   NULL|hối giao 13/5/ . ...|       NULL|        Chuyển hoàn|    985806760|1 EM6972 Đầm Xoè ...|  Lạng Sơn|350000|       0|VIETTEL POST|        0|   649000|            2|    NGOCBICH|      2 L 6972 QT| 12/05/2023| 649000|\n",
      "|  4|        NULL|        NULL| EMYA900571|     NULL|      NULL|     THANHNHAN|   12/05/2023|   system|12/05/2023|       802734|         C THỦY TRẦN|Cty Cổ phần chăn ...|    A900571|      NULL|   NULL|hối giao 13/5/ (K...|       NULL|        Chuyển hoàn|    915364296|1 EM9249 Đầm Xoè ...|  Đồng Nai|299000|   35000|VIETTEL POST|        0|   334000|            1|    NGOCBICH|                L| 12/05/2023| 334000|\n",
      "|  5|        NULL|        NULL| EMYA900578|     NULL|      NULL|    QUOCTHUONG|   12/05/2023|   system|12/05/2023|       511866|C PHẠM THẢO - KIM...|Trường mầm non Rạ...|    A900578|      NULL|   NULL|khách từ chối vì ...|       NULL|        Chuyển hoàn|    372177126|1 EM7046 Đầm Body...|   Bến Tre|570000|       0|VIETTEL POST|        0|   456000|            1|    NGOCBICH|                L| 15/05/2023| 456000|\n",
      "|  6|        NULL|        NULL| EMYA900583|     NULL|      NULL|        ANHKIM|   12/05/2023|   system|12/05/2023|       352041|      C NGUYỄN TRANG|số nhà 37/14 đườn...|    A900583|      NULL|   NULL|hôi giao 13/5 (Kh...|       NULL|        Chuyển hoàn|    938477909|1 EM6981 Đầm Dạ H...|  Đồng Nai|690000|       0|VIETTEL POST|        0|   690000|            1|    NGOCBICH|             YC L| 12/05/2023| 690000|\n",
      "|  7|        NULL|        NULL|       NULL|     NULL|      NULL|     QUACHNGOC|   12/05/2023|QUACHNGOC|12/05/2023|       802657|       C Nguyễn Xinh|SỐ 53, ĐƯỜNG DX 6...|    A900614|      NULL|   NULL|BPC 7010XL 399K Đ...|       NULL|        Chuyển hoàn|    986503977|                NULL|Bình Dương|  NULL|       0|VIETTEL POST|     NULL|        0|            1|   QUACHNGOC|             NULL| 12/05/2023|   NULL|\n",
      "|  8|        NULL|        NULL| EMYA900616|     NULL|      NULL|     THANHNHAN|   12/05/2023|   system|12/05/2023|       802740|        C BẠCH DƯƠNG|SỐ 190 Trần Phú, ...|    A900616|      NULL|   NULL|khách không nghe ...|       NULL|        Chuyển hoàn|    918624545|1 EM7065 Đầm Xoè ...|Kiên Giang|630000|       0|VIETTEL POST|        0|   630000|            1|    NGOCBICH|           XL LVV| 13/05/2023| 630000|\n",
      "|  9|        NULL|        NULL| EMYA900618|     NULL|      NULL|     THANHNHAN|   12/05/2023|   system|12/05/2023|       539415|        C VÕ THỊ QUẾ|XÓM THÀNH VINH 2 ...|    A900618|      NULL|   NULL|hối giao 13/5. hố...|       NULL|        Chuyển hoàn|    989914332|1 EM7059 Đầm Xoè ...|   Nghệ An|530000|       0|VIETTEL POST|        0|   530000|            1|    NGOCBICH|                M| 12/05/2023| 530000|\n",
      "| 10|        NULL|        NULL| EMYA900638|     NULL|      NULL|       MINHANH|   12/05/2023|   system|12/05/2023|       328445|             CHỊ HUỆ|04 Đường Dương Vă...|    A900638|      NULL|   NULL|hối giao 13/5/ cả...|       NULL|        Chuyển hoàn|    968980539|1 EM9249 Đầm Xoè ...|   Đà Nẵng|299000|       0|VIETTEL POST|        0|   698000|            2|    NGOCBICH|     2 L 7010 LBB| 12/05/2023| 698000|\n",
      "| 11|        NULL|        NULL| EMYA900638|     NULL|      NULL|       MINHANH|   12/05/2023|   system|12/05/2023|       328445|             CHỊ HUỆ|04 Đường Dương Vă...|    A900638|      NULL|   NULL|hối giao 13/5/ cả...|       NULL|        Chuyển hoàn|    968980539|1 EM7010 Đầm Xoè ...|   Đà Nẵng|399000|       0|VIETTEL POST|        0|   698000|            2|    NGOCBICH|     2 L 7010 LBB| 12/05/2023| 698000|\n",
      "| 12|        NULL|        NULL| EMYA900677|     NULL|      NULL|      HUYNHNAM|   12/05/2023|   system|12/05/2023|       802764|        C Giang Quân|THÔN NHO LÂN,Xã N...|    A900677|      NULL|   NULL|đang giao nt cho ...|       NULL|        Chuyển hoàn|    326009096|1 EM7076 Jump Phố...|  Hưng Yên|650000|       0|VIETTEL POST|        0|   650000|            1|    NGOCBICH|           SIZE L| 13/05/2023| 650000|\n",
      "| 13|        NULL|        NULL| EMYA900731|     NULL|      NULL|       CHITRUC|   13/05/2023|   system|12/05/2023|       802774| C Nguyễn Nữ Đoàn Vy|cống Cửu Dục, đườ...|    A900731|      NULL|   NULL|đang giao nt cho ...|       NULL|        Chuyển hoàn|    944220371|1 EM7062 Đầm Xoè ...| Quảng Nam|399000|   35000|VIETTEL POST|        0|   434000|            1|    NGOCBICH|                M| 13/05/2023| 434000|\n",
      "| 14|        NULL|        NULL| EMYA900752|     NULL|      NULL|       CHITRUC|   13/05/2023|   system|13/05/2023|       651869|         C Diễm Thuý|C SÁU NHẬN HÀNG -...|    A900752|      NULL|   NULL|(Áo quá dài khách...|       NULL|        Chuyển hoàn|    333990026|1 EM7001 Đầm Maxi...|  Trà Vinh|399000|   35000|VIETTEL POST|        0|   434000|            1|    NGOCBICH|                M| 13/05/2023| 434000|\n",
      "| 15|        NULL|        NULL| EMYA900766|     NULL|      NULL|    QUOCTHUONG|   13/05/2023|   system|13/05/2023|       601595|C NGUYỄN HƯƠNG (0...|ẤP PHƯỚC TOÀN ,Xã...|    A900766|      NULL|   NULL|đang giao nt cho ...|       NULL|        Chuyển hoàn|    974080760|1 EM7001 Đầm Maxi...|   Long An|399000|   35000|VIETTEL POST|        0|   434000|            1|    NGOCBICH|            L LBB| 13/05/2023| 434000|\n",
      "| 16|        NULL|        NULL| EMYA900788|     NULL|      NULL|        ANHKIM|   13/05/2023|   system|13/05/2023|       658299|     CHỊ GIANG - BẠC|153 ấp Nhơn Quới ...|    A900788|      NULL|   NULL|đang giao nt khác...|       NULL|        Chuyển hoàn|    901060499|1 EM7063 Đầm Xoè ...| Đồng Tháp|399000|       0|VIETTEL POST|        0|   399000|            1|    NGOCBICH|             YC L| 13/05/2023| 399000|\n",
      "| 17|        NULL|        NULL|       NULL|     NULL|      NULL|     QUACHNGOC|   13/05/2023|QUACHNGOC|13/05/2023|       488836|       C. TRẦN DƯƠNG|mỏ đá đồng Đặng, ...|    A900798|      NULL|   NULL|BPC ĐH EMYA899995...|       NULL|        Chuyển hoàn|    904064826|                NULL|Quảng Ninh|  NULL|       0|VIETTEL POST|     NULL|        0|            1|   QUACHNGOC|             NULL| 13/05/2023|   NULL|\n",
      "| 18|        NULL|        NULL| EMYA900843|     NULL|      NULL|     THANHNHAN|   13/05/2023|   system|13/05/2023|       638602|          C CHU HỒNG|SỐ 275 HÀ HUY TẬP...|    A900843|      NULL|   NULL|hối giao 15/5 yến...|       NULL|        Chuyển hoàn|    912435600|1 EM9249 Đầm Xoè ...|   Hà Tĩnh|299000|   35000|VIETTEL POST|        0|   334000|            1|    NGOCBICH|                L| 13/05/2023| 334000|\n",
      "| 19|        NULL|        NULL| EMYA900869|THANHNHAN|13/05/2023|     THANHNHAN|   13/05/2023|   system|13/05/2023|       802809|          C ĐẶNG ÁNH|KP XUÂN LƯU,Thị T...|    A900869|      NULL|   NULL|hối giao 15/5 yến...|       NULL|        Chuyển hoàn|    915894669|1 EM7045 Đầm Xoè ...| Thanh Hóa|630000|       0|VIETTEL POST|        0|   630000|            1|    NGOCBICH|                L| 13/05/2023| 630000|\n",
      "| 20|        NULL|        NULL| EMYA900932|     NULL|      NULL|     THANHNHAN|   13/05/2023|   system|13/05/2023|       801725|     C PHAN THỊ THẮM|Ấp Tân tiến,Xã Tâ...|    A900932|      NULL|   NULL|đang giao nt cho ...|       NULL|        Chuyển hoàn|    398779509|1 EM6924 Đầm Xoè ...|Kiên Giang|299000|   35000|VIETTEL POST|        0|   334000|            1|    NGOCBICH|           XXL QT| 15/05/2023| 334000|\n",
      "+---+------------+------------+-----------+---------+----------+--------------+-------------+---------+----------+-------------+--------------------+--------------------+-----------+----------+-------+--------------------+-----------+-------------------+-------------+--------------------+----------+------+--------+------------+---------+---------+-------------+------------+-----------------+-----------+-------+\n",
      "only showing top 20 rows\n",
      "\n"
     ]
    }
   ],
   "source": [
    "df_cleaned1.show()"
   ]
  },
  {
   "cell_type": "code",
   "execution_count": 10,
   "id": "e83545de",
   "metadata": {},
   "outputs": [],
   "source": [
    "df_write= df_cleaned1.write.option(\"header\", True).csv('Data.csv', mode='overwrite')"
   ]
  },
  {
   "cell_type": "code",
   "execution_count": 11,
   "id": "08fc68ef",
   "metadata": {},
   "outputs": [],
   "source": [
    "df_where = df_cleaned1.where(col(\"STT\") == '22')"
   ]
  },
  {
   "cell_type": "code",
   "execution_count": 12,
   "id": "9c50655a",
   "metadata": {},
   "outputs": [
    {
     "name": "stdout",
     "output_type": "stream",
     "text": [
      "+---+------------+------------+-----------+---------+--------+--------------+-------------+---------+----------+-------------+--------------+-------------------------------------------------------------------------+-----------+----------+-------+---------------------------------------------------------------------------------------------------------------------------------------------------------------------------------------------------------------------------------------------------------------------------------------------------------------------+-----------+-------------------+-------------+-------------------------------+----------+------+--------+------------+---------+---------+-------------+------------+-----------------+-----------+-------+\n",
      "|STT|Bưu Cục Nhận|Bưu Cục Phát|Mã Bưu Điện|Người Hủy|Ngày Hủy|Người Xác Nhận|Ngày Xác Nhận|Người Tạo|Ngày Tạo  |Mã Khách Hàng|Tên Khách Hàng|Địa Chỉ                                                                |Mã Đơn Hàng|Khối Lượng|NGAY_KG|Ghi Chú                                                                                                                                                                                                                                                                                                              |Ghi Chú Hủy|Trạng Thái Đơn Hàng|Số Điện Thoại|Tên Sản Phẩm                   |Tỉnh Thành|Giá   |Phí Ship|Loại Ship   |Tổng Cước|Tổng Tiền|Tổng Sản Phẩm|Người Chuyển|Ghi Chú Giao Hàng|Ngày Chuyển|Trị Giá|\n",
      "+---+------------+------------+-----------+---------+--------+--------------+-------------+---------+----------+-------------+--------------+-------------------------------------------------------------------------+-----------+----------+-------+---------------------------------------------------------------------------------------------------------------------------------------------------------------------------------------------------------------------------------------------------------------------------------------------------------------------+-----------+-------------------+-------------+-------------------------------+----------+------+--------+------------+---------+---------+-------------+------------+-----------------+-----------+-------+\n",
      "|22 |NULL        |NULL        |EMYA901005 |NULL     |NULL    |THANHNHAN     |14/05/2023   |system   |13/05/2023|802844       |C MAI ANH     |SỐ 80 NGÕ NGHÈ. KP PHÙ LƯU,Phường Đông Ngàn, Thị Xã Từ Sơn, Tỉnh Bắc Ninh|A901005    |NULL      |NULL   |hối giao 16/5 yến/ đg nt cho kh 17/5 Ngọc/  đang giao nt cho khách 18/5 trinh/   (Size bé ko lâyw ) đặt cho mẹ nhưng về mẹ thấy ko hợp ko nhận , để hỏi lại mẹ có mún đổi size ko rồi nhắn mess cho shop 19/5 Ngọc/ ghe váy emy thì ko tl rồi tắt máy , gọi lại 3c bấm tắt + nt đp 22/5 Ngọc/ HOÀN LỖI KH đưa bta 30k|NULL       |Chuyển hoàn        |839820216    |1 EM7031 Đầm Xoè Hồng Cổ Tròn M|Bắc Ninh  |350000|35000   |VIETTEL POST|0        |385000   |1            |NGOCBICH    |M                |15/05/2023 |385000 |\n",
      "+---+------------+------------+-----------+---------+--------+--------------+-------------+---------+----------+-------------+--------------+-------------------------------------------------------------------------+-----------+----------+-------+---------------------------------------------------------------------------------------------------------------------------------------------------------------------------------------------------------------------------------------------------------------------------------------------------------------------+-----------+-------------------+-------------+-------------------------------+----------+------+--------+------------+---------+---------+-------------+------------+-----------------+-----------+-------+\n",
      "\n"
     ]
    }
   ],
   "source": [
    "df_where.show(truncate= False)"
   ]
  },
  {
   "cell_type": "code",
   "execution_count": 13,
   "id": "14105f47",
   "metadata": {},
   "outputs": [],
   "source": [
    "#nhân viên bán hàng nào bị trả hàng nhiều nhất \n",
    "df_nv = df_cleaned1.groupBy(\"Người Xác Nhận\") \\\n",
    "    .count() \\\n",
    "    .withColumnRenamed(\"count\", \"Total\") \\\n",
    "    .orderBy(\"Total\", ascending=False)\n"
   ]
  },
  {
   "cell_type": "code",
   "execution_count": 14,
   "id": "bdd7f4c9",
   "metadata": {},
   "outputs": [
    {
     "name": "stdout",
     "output_type": "stream",
     "text": [
      "+---+------------+------------+-----------+---------+----------+--------------+-------------+---------+----------+-------------+---------------------------+------------------------------------------------------------------------------------------------------------------------------+-----------+----------+-------+----------------------------------------------------------------------------------------------------------------------------------------------------------------------------------------------------------------------------------------------------------------------------------------------------------------------------------------------------------------------------------------------------------------------------------------------------------------------------------------+-----------+-------------------+-------------+---------------------------------------+----------+------+--------+------------+---------+---------+-------------+------------+-----------------+-----------+-------+\n",
      "|STT|Bưu Cục Nhận|Bưu Cục Phát|Mã Bưu Điện|Người Hủy|Ngày Hủy  |Người Xác Nhận|Ngày Xác Nhận|Người Tạo|Ngày Tạo  |Mã Khách Hàng|Tên Khách Hàng             |Địa Chỉ                                                                                                                     |Mã Đơn Hàng|Khối Lượng|NGAY_KG|Ghi Chú                                                                                                                                                                                                                                                                                                                                                                                                                                                                                 |Ghi Chú Hủy|Trạng Thái Đơn Hàng|Số Điện Thoại|Tên Sản Phẩm                           |Tỉnh Thành|Giá   |Phí Ship|Loại Ship   |Tổng Cước|Tổng Tiền|Tổng Sản Phẩm|Người Chuyển|Ghi Chú Giao Hàng|Ngày Chuyển|Trị Giá|\n",
      "+---+------------+------------+-----------+---------+----------+--------------+-------------+---------+----------+-------------+---------------------------+------------------------------------------------------------------------------------------------------------------------------+-----------+----------+-------+----------------------------------------------------------------------------------------------------------------------------------------------------------------------------------------------------------------------------------------------------------------------------------------------------------------------------------------------------------------------------------------------------------------------------------------------------------------------------------------+-----------+-------------------+-------------+---------------------------------------+----------+------+--------+------------+---------+---------+-------------+------------+-----------------+-----------+-------+\n",
      "|1  |NULL        |NULL        |EMYA900519 |NULL     |NULL      |QUOCTHUONG    |12/05/2023   |system   |12/05/2023|495705       |C. TẠP HÓA KHOA THỦY       |Đôi 1 ấp Phước Tân xã Tân Phước huyện đồng phú tinh bình phước số nhà 139 ,Xã Tân Phước, Huyện Đồng Phú, Tỉnh Bình Phước      |A900519    |NULL      |NULL   |tay ao chật đo thử nhỏ hơn tay chị đưa lại bưu tá rồi, đợi kh phản hồi tin nhắn ck đổi mẫu khác 13/5 Ngọc/ Ủa chị dâu có nói đối đâu chị mua thêm mà ai dè cái màu đen nó kg đc thôi chứ chị dâu có đối + nt đp 15/5 Ngọc/ HOÀN LÔI KH                                                                                                                                                                                                                                                  |NULL       |Chuyển hoàn        |385057641    |1 EM7108 Đầm Xoè Đen Cổ Vuông XL       |Bình Phước|630000|0       |VIETTEL POST|0        |630000   |1            |NGOCBICH    |XL               |12/05/2023 |630000 |\n",
      "|2  |NULL        |NULL        |EMYA900537 |THANHNHAN|12/05/2023|THANHNHAN     |12/05/2023   |system   |12/05/2023|600811       |CHỊ DƯƠNG THỊ HƯƠNG        |QUẦY THUỐC DƯƠNG HƯƠNG- NGÃ BA SÂN VẬN ĐÔNG, KP HOÀNG VĂN THỤ,Thị trấn Bắc Sơn, Huyện Bắc Sơn, Tỉnh Lạng Sơn                  |A900537    |NULL      |NULL   |hối giao 13/5/ . hối giao 15/5 yến gọi cho khách , khách nói   mặc nhìn thấy già,đã thuyết phục khách đổi nhưng khách không chịu và tắt máy ngang,đã gọi lại 2 lần nhưng khách tắt máy.(hoàn lỗi khách) 16/5 yến                                                                                                                                                                                                                                                                        |NULL       |Chuyển hoàn        |985806760    |1 EM6838 Đầm Xoè Cổ Tròn L             |Lạng Sơn  |299000|0       |VIETTEL POST|0        |649000   |2            |NGOCBICH    |2 L 6972 QT      |12/05/2023 |649000 |\n",
      "|3  |NULL        |NULL        |EMYA900537 |THANHNHAN|12/05/2023|THANHNHAN     |12/05/2023   |system   |12/05/2023|600811       |CHỊ DƯƠNG THỊ HƯƠNG        |QUẦY THUỐC DƯƠNG HƯƠNG- NGÃ BA SÂN VẬN ĐÔNG, KP HOÀNG VĂN THỤ,Thị trấn Bắc Sơn, Huyện Bắc Sơn, Tỉnh Lạng Sơn                  |A900537    |NULL      |NULL   |hối giao 13/5/ . hối giao 15/5 yến gọi cho khách , khách nói   mặc nhìn thấy già,đã thuyết phục khách đổi nhưng khách không chịu và tắt máy ngang,đã gọi lại 2 lần nhưng khách tắt máy.(hoàn lỗi khách) 16/5 yến                                                                                                                                                                                                                                                                        |NULL       |Chuyển hoàn        |985806760    |1 EM6972 Đầm Xoè Cổ V Tay Lỡ L         |Lạng Sơn  |350000|0       |VIETTEL POST|0        |649000   |2            |NGOCBICH    |2 L 6972 QT      |12/05/2023 |649000 |\n",
      "|4  |NULL        |NULL        |EMYA900571 |NULL     |NULL      |THANHNHAN     |12/05/2023   |system   |12/05/2023|802734       |C THỦY TRẦN                |Cty Cổ phần chăn nuôi CP Việt Nam. Đc : Lô số 13 đường 19A - KCN Biên Hoà 2 ,Phường An Bình, Thành phố Biên Hòa, Tỉnh Đồng Nai|A900571    |NULL      |NULL   |hối giao 13/5/ (Kh ko ưng sp ) màu tối ko sáng đẹp như hình , ko ưng màu như vậy , ưng màu trên hình nên đặt mà hàng về màu ko gióng 15/5 Ngọc/ HOÀN LỖI KH                                                                                                                                                                                                                                                                                                                             |NULL       |Chuyển hoàn        |915364296    |1 EM9249 Đầm Xoè Voan Hàn Cổ Tròn L    |Đồng Nai  |299000|35000   |VIETTEL POST|0        |334000   |1            |NGOCBICH    |L                |12/05/2023 |334000 |\n",
      "|5  |NULL        |NULL        |EMYA900578 |NULL     |NULL      |QUOCTHUONG    |12/05/2023   |system   |12/05/2023|511866       |C PHẠM THẢO - KIM CƯƠNG    |Trường mầm non Rạng Đông,Phường 08, Thành phố Bến Tre, Tỉnh Bến Tre                                                           |A900578    |NULL      |NULL   |khách từ chối vì váy quá dài,cổ áo thấp,do khách thấp nên mặc thấy dài, thuyết phục đổi mẫu khách không đồng ý,đã gửi phí bưu tá 50k 16/5 yến-hoàn lỗi khách                                                                                                                                                                                                                                                                                                                            |NULL       |Chuyển hoàn        |372177126    |1 EM7046 Đầm Body Đỏ Vai Kết Nút L     |Bến Tre   |570000|0       |VIETTEL POST|0        |456000   |1            |NGOCBICH    |L                |15/05/2023 |456000 |\n",
      "|6  |NULL        |NULL        |EMYA900583 |NULL     |NULL      |ANHKIM        |12/05/2023   |system   |12/05/2023|352041       |C NGUYỄN TRANG             |số nhà 37/14 đường số 6 ấp Tân tiến xã Xuân hiệp ,Xã Xuân Hiệp, Huyện Xuân Lộc, Tỉnh Đồng Nai                                 |A900583    |NULL      |NULL   |hôi giao 13/5 (Không nhận ) knm+nt 15/5 Ngọc/ knm+nt 16/5 Ngọc/ mua mặc làm xui mà rộng qus, mặc thử rộng từ trên xuống dưới, lúc đó có bưu tá , thôi tới ngày ngồi xui r c ko đổi nữa+ ghi âm báo zalo chuyển đền 17/5 ngọc/ ĐÃ NHẬN HÀNG TRẢ 20/5                                                                                                                                                                                                                                     |NULL       |Chuyển hoàn        |938477909    |1 EM6981 Đầm Dạ Hội Cổ Cách Điệu L     |Đồng Nai  |690000|0       |VIETTEL POST|0        |690000   |1            |NGOCBICH    |YC L             |12/05/2023 |690000 |\n",
      "|8  |NULL        |NULL        |EMYA900616 |NULL     |NULL      |THANHNHAN     |12/05/2023   |system   |12/05/2023|802740       |C BẠCH DƯƠNG               |SỐ 190 Trần Phú, ,Phường Vĩnh Thanh Vân, Thành phố Rạch Giá, Tỉnh Kiên Giang                                                  |A900616    |NULL      |NULL   |khách không nghe máy + nt 15/5 yến/ nt đi ctac sẽ tự hẹn bta, l2 knm + nt 15/5 Ngọc/ báo bta mai giao lại 15/5 Ngọc/ bên e nói phần chỉ nổi là màu kem nên chị mua mà hàng về màu trắng sữa nó nổi bật lên lắm vì mẹ chồng chị khó tính ko mặc nổi nổi được đâu e , thôi chị ko đổi để nào chị chọn được mẫu khác chị đặt mới, hôm qua chị trả 50k ship như tn của em là chị hoàn thành xong đơn này rồi nha e 16/5 Ngọc/ HOÀN LỖI KH                                                   |NULL       |Chuyển hoàn        |918624545    |1 EM7065 Đầm Xoè Xanh Rêu Cổ Tròn XL   |Kiên Giang|630000|0       |VIETTEL POST|0        |630000   |1            |NGOCBICH    |XL LVV           |13/05/2023 |630000 |\n",
      "|9  |NULL        |NULL        |EMYA900618 |NULL     |NULL      |THANHNHAN     |12/05/2023   |system   |12/05/2023|539415       |C VÕ THỊ QUẾ               |XÓM THÀNH VINH 2 ,Xã Nghi Quang, Huyện Nghi Lộc, Tỉnh Nghệ An                                                                 |A900618    |NULL      |NULL   |hối giao 13/5. hối giao 15/5 yến/ (Khách từ chối - chất lượng hàng kém) knm+nt 16/5 Ngọc/ l2 knm Ngọc/ knm + nt 17/5 ngọc knm+nt đp 18/5 Ngọc/ hoàn lỗi kh 18/5 Ngọc/ đưa bta 50k                                                                                                                                                                                                                                                                                                       |NULL       |Chuyển hoàn        |989914332    |1 EM7059 Đầm Xoè Phối Cổ Tròn M        |Nghệ An   |530000|0       |VIETTEL POST|0        |530000   |1            |NGOCBICH    |M                |12/05/2023 |530000 |\n",
      "|10 |NULL        |NULL        |EMYA900638 |NULL     |NULL      |MINHANH       |12/05/2023   |system   |12/05/2023|328445       |CHỊ HUỆ                    |04 Đường Dương Văn An, Phường Mân Thái,Phường Mân Thái, Quận Sơn Trà, Thành Phố Đà Nẵng                                       |A900638    |NULL      |NULL   |hối giao 13/5/ cả hai cái đều ko ưng , đưa phí 50k rồi , c đi chơi hè chưa biết khi nào về nữa , khi nào về ưng chị đặt lại ĐƠN SAU CK 100% 15/5 Ngọc/                                                                                                                                                                                                                                                                                                                                  |NULL       |Chuyển hoàn        |968980539    |1 EM9249 Đầm Xoè Voan Hàn Cổ Tròn L    |Đà Nẵng   |299000|0       |VIETTEL POST|0        |698000   |2            |NGOCBICH    |2 L 7010 LBB     |12/05/2023 |698000 |\n",
      "|11 |NULL        |NULL        |EMYA900638 |NULL     |NULL      |MINHANH       |12/05/2023   |system   |12/05/2023|328445       |CHỊ HUỆ                    |04 Đường Dương Văn An, Phường Mân Thái,Phường Mân Thái, Quận Sơn Trà, Thành Phố Đà Nẵng                                       |A900638    |NULL      |NULL   |hối giao 13/5/ cả hai cái đều ko ưng , đưa phí 50k rồi , c đi chơi hè chưa biết khi nào về nữa , khi nào về ưng chị đặt lại ĐƠN SAU CK 100% 15/5 Ngọc/                                                                                                                                                                                                                                                                                                                                  |NULL       |Chuyển hoàn        |968980539    |1 EM7010 Đầm Xoè Tay Nơ L              |Đà Nẵng   |399000|0       |VIETTEL POST|0        |698000   |2            |NGOCBICH    |2 L 7010 LBB     |12/05/2023 |698000 |\n",
      "|12 |NULL        |NULL        |EMYA900677 |NULL     |NULL      |HUYNHNAM      |12/05/2023   |system   |12/05/2023|802764       |C Giang Quân               |THÔN NHO LÂN,Xã Ngọc Lâm, Thị xã Mỹ Hào, Tỉnh Hưng Yên                                                                        |A900677    |NULL      |NULL   |đang giao nt cho khách 15/5 yến/ (Không cho thử hàng ) nghe váy emy tắt ngang gọi lại 3c đều bấm tắt, kh gọi lại nói bta ko cho thử vì lúc chốt đơn hơi vội nên tl lun, xin thử xem vừa ko nhưng bta ko cho e đưa 50k rồi, giờ e ko ở nhà thôi để lần sau e đặt cái khác 16/5 Ngọc/ HOÀN LỖI KH                                                                                                                                                                                         |NULL       |Chuyển hoàn        |326009096    |1 EM7076 Jump Phối Cổ Sơ Mi L          |Hưng Yên  |650000|0       |VIETTEL POST|0        |650000   |1            |NGOCBICH    |SIZE L           |13/05/2023 |650000 |\n",
      "|13 |NULL        |NULL        |EMYA900731 |NULL     |NULL      |CHITRUC       |13/05/2023   |system   |12/05/2023|802774       |C Nguyễn Nữ Đoàn Vy        |cống Cửu Dục, đường số 1, nhà số 15, thôn Nhị Dinh 2,Xã Điện Phước, Thị Xã Điện Bàn, Tỉnh Quảng Nam                           |A900731    |NULL      |NULL   |đang giao nt cho khách 15/5 yến/ (Khách xem hàng k ưng ý k nhận, hoàn gấp ) váy dài quá e chị có m52 thôi, với lại màu tối già quá ko hợp với tuổi của chị, chị đã đưa phí 30k rồi, khi nào ưng cái khác chị đặt sau 16/5 Ngọc/HOÀN LỖI KH                                                                                                                                                                                                                                              |NULL       |Chuyển hoàn        |944220371    |1 EM7062 Đầm Xoè Cổ Danton M           |Quảng Nam |399000|35000   |VIETTEL POST|0        |434000   |1            |NGOCBICH    |M                |13/05/2023 |434000 |\n",
      "|14 |NULL        |NULL        |EMYA900752 |NULL     |NULL      |CHITRUC       |13/05/2023   |system   |13/05/2023|651869       |C Diễm Thuý                |C SÁU NHẬN HÀNG - Thôn Bà Liêm ,Xã Hoà Minh, Huyện Châu Thành, Tỉnh Trà Vinh                                                  |A900752    |NULL      |NULL   |(Áo quá dài khách ko nhận ) knm+nt 15/5 Ngọc/ mẹ nhận dùm nói con tui nó lùn hơn tui mà shop đưa cái đầm gì mà dài dữ vậy mà màu đen thui , tui giơ lên nó dài qua đầu làm sao con tui mặc được, tui trả rồi ko nhận làm sao mặc , tin nhắn kh cũng từ chối + nt đp 16/5 Ngọc/ HOÀN LỖI KH                                                                                                                                                                                              |NULL       |Chuyển hoàn        |333990026    |1 EM7001 Đầm Maxi Hoa Nhí Cổ Lục Giác M|Trà Vinh  |399000|35000   |VIETTEL POST|0        |434000   |1            |NGOCBICH    |M                |13/05/2023 |434000 |\n",
      "|15 |NULL        |NULL        |EMYA900766 |NULL     |NULL      |QUOCTHUONG    |13/05/2023   |system   |13/05/2023|601595       |C NGUYỄN HƯƠNG (0377508381)|ẤP PHƯỚC TOÀN ,Xã Long Hiệp, Huyện Bến Lức, Tỉnh Long An                                                                      |A900766    |NULL      |NULL   |đang giao nt cho khách 15/5 yến/ (K nhận ) nhìn hifh và live c ko thấy bèo dưới đuôi chị tưởng suông ai dè hàng về có bèo đuôi chị ko ưng , e đừng bùn c nha , để đơn sau c xem kỹ hơn c ủng hộ , c cũng có gửi phí cho bưu tá rồi , mua mà ko lấy được chị cũng tiếc lắm em 16/5 Ngọc/ HOÀN LỖI KH                                                                                                                                                                                     |NULL       |Chuyển hoàn        |974080760    |1 EM7001 Đầm Maxi Hoa Nhí Cổ Lục Giác L|Long An   |399000|35000   |VIETTEL POST|0        |434000   |1            |NGOCBICH    |L LBB            |13/05/2023 |434000 |\n",
      "|16 |NULL        |NULL        |EMYA900788 |NULL     |NULL      |ANHKIM        |13/05/2023   |system   |13/05/2023|658299       |CHỊ GIANG - BẠC            |153 ấp Nhơn Quới ,Xã Vĩnh Thạnh, Huyện Lấp Vò, Tỉnh Đồng Tháp                                                                 |A900788    |NULL      |NULL   |đang giao nt khách 15/5 yến/ (Khách đã nhận hàng này rồi , từ chối nhận ) knm+nt 16/5 yến/ kh nói ko đặt L chỉ đặt M thôi , để xem lại tin nhắn 17/5 ngọc/ c knm+nt , gọi lần nữa knm thì hoàn đơn sau ck 100% 18/5 Ngọc/ knm+ntđp 19/5 Ngọc/                                                                                                                                                                                                                                           |NULL       |Chuyển hoàn        |901060499    |1 EM7063 Đầm Xoè Hoa Nhí Cổ Cách Điệu L|Đồng Tháp |399000|0       |VIETTEL POST|0        |399000   |1            |NGOCBICH    |YC L             |13/05/2023 |399000 |\n",
      "|18 |NULL        |NULL        |EMYA900843 |NULL     |NULL      |THANHNHAN     |13/05/2023   |system   |13/05/2023|638602       |C CHU HỒNG                 |SỐ 275 HÀ HUY TẬP,Phường Nam Hà, Thành phố Hà Tĩnh, Tỉnh Hà Tĩnh                                                              |A900843    |NULL      |NULL   |hối giao 15/5 yến/ đang giao nt cho khách 16/5 yến/ (Khách từ chối - chất lượng hàng kém.) knm+ nt 17/5 ngọc/ knm+nt 18/5 Ngọc/ size L chật vì mới tăng lên 1 ký, tp tt dổi nhưng ko chịu nói gửi hàng mới ra đi r nhận tt + nt đp 18/5 Ngọc/                                                                                                                                                                                                                                           |NULL       |Chuyển hoàn        |912435600    |1 EM9249 Đầm Xoè Voan Hàn Cổ Tròn L    |Hà Tĩnh   |299000|35000   |VIETTEL POST|0        |334000   |1            |NGOCBICH    |L                |13/05/2023 |334000 |\n",
      "|19 |NULL        |NULL        |EMYA900869 |THANHNHAN|13/05/2023|THANHNHAN     |13/05/2023   |system   |13/05/2023|802809       |C ĐẶNG ÁNH                 |KP XUÂN LƯU,Thị Trấn Rừng Thông, Huyện Đông Sơn, Tỉnh Thanh Hóa                                                               |A900869    |NULL      |NULL   |hối giao 15/5 yến/ đang giao nt cho khách 16/5 yến/ ycpl 17/5 ngọc/ (Ko lấy ) knm+nt 18/5 Ngọc/ kh nói hôm đó bta gọi báo giao mà c đợi mãi ko thấy đến , c đi du lịch lun r đi nửa tháng mới về do đi theo đoàn thì phụ thuộc tập thể chứ c đâu có quyết định ngày giờ được, bên em báo 3-5 ngày giao mà có thấy đây , bta nói đến cũng ko ai thì lỗi do bưu tá chứ sao lỗi c được, nào c về thì c nhắn lại chứ giờ c ko nhận e nhé+ ghi âm chuyển đền 19/5 Ngọc/ ĐÃ NHẬN HÀNG TRẢ 30/5|NULL       |Chuyển hoàn        |915894669    |1 EM7045 Đầm Xoè Midi Tùng Dập Ply L   |Thanh Hóa |630000|0       |VIETTEL POST|0        |630000   |1            |NGOCBICH    |L                |13/05/2023 |630000 |\n",
      "|20 |NULL        |NULL        |EMYA900932 |NULL     |NULL      |THANHNHAN     |13/05/2023   |system   |13/05/2023|801725       |C PHAN THỊ THẮM            |Ấp Tân tiến,Xã Tân Thành, Huyện Tân Hiệp, Tỉnh Kiên Giang                                                                     |A900932    |NULL      |NULL   |đang giao nt cho khách 16/5 yến/ (Hẹn mai giao ) báo mai giao lại 16/5 Ngọc/ ycpl 17/5 Ngọc/ kh nói hàng đến màu xanh , gọi kh knm , báo bta chụp hình giúp 18/5 Ngọc/ nhắc zl chụp hình 19/5 Ngọc/ tp ck trc 299k miễn ship rồi gửi đơn mới đúng mẫu nhưng ko ko chịu, gửi kho xl 19/5 Ngọc/ HOÀN LỖI KHO => HÀNG VỀ LÀ MẪU GÌ/ HÀNG VỀ MẪU 6914XXL 26/5                                                                                                                               |NULL       |Chuyển hoàn        |398779509    |1 EM6924 Đầm Xoè Dập Ply XXL           |Kiên Giang|299000|35000   |VIETTEL POST|0        |334000   |1            |NGOCBICH    |XXL QT           |15/05/2023 |334000 |\n",
      "|21 |NULL        |NULL        |EMYA900939 |NULL     |NULL      |THANHNHAN     |14/05/2023   |system   |13/05/2023|263721       |C PHẠM XUÂN BA             |NGÕ 63, SN 12, TỔ DP 9, ĐƯỜNG PHAN ĐĂNG LƯU, ,Phường Đồng Sơn, Thành phố Đồng Hới, Tỉnh Quảng Bình                            |A900939    |NULL      |NULL   |hối giao 16/5 yến/ hối giao 17/5 Yến, đang giao nt cho kh 18/5 Trinh/ (không nghe máy) knm+nt 19/5 Ngọc/ knm2l + nt 20/5 Trinh/ knm+ntđp 22/5 Ngọc/ HOÀN LỖI KH                                                                                                                                                                                                                                                                                                                         |NULL       |Chuyển hoàn        |979831409    |1 EM7086 Đầm Xoè Hoa Tay Lỡ M          |Quảng Bình|530000|0       |VIETTEL POST|0        |530000   |1            |NGOCBICH    |M                |15/05/2023 |530000 |\n",
      "|22 |NULL        |NULL        |EMYA901005 |NULL     |NULL      |THANHNHAN     |14/05/2023   |system   |13/05/2023|802844       |C MAI ANH                  |SỐ 80 NGÕ NGHÈ. KP PHÙ LƯU,Phường Đông Ngàn, Thị Xã Từ Sơn, Tỉnh Bắc Ninh                                                     |A901005    |NULL      |NULL   |hối giao 16/5 yến/ đg nt cho kh 17/5 Ngọc/  đang giao nt cho khách 18/5 trinh/   (Size bé ko lâyw ) đặt cho mẹ nhưng về mẹ thấy ko hợp ko nhận , để hỏi lại mẹ có mún đổi size ko rồi nhắn mess cho shop 19/5 Ngọc/ ghe váy emy thì ko tl rồi tắt máy , gọi lại 3c bấm tắt + nt đp 22/5 Ngọc/ HOÀN LỖI KH đưa bta 30k                                                                                                                                                                   |NULL       |Chuyển hoàn        |839820216    |1 EM7031 Đầm Xoè Hồng Cổ Tròn M        |Bắc Ninh  |350000|35000   |VIETTEL POST|0        |385000   |1            |NGOCBICH    |M                |15/05/2023 |385000 |\n",
      "+---+------------+------------+-----------+---------+----------+--------------+-------------+---------+----------+-------------+---------------------------+------------------------------------------------------------------------------------------------------------------------------+-----------+----------+-------+----------------------------------------------------------------------------------------------------------------------------------------------------------------------------------------------------------------------------------------------------------------------------------------------------------------------------------------------------------------------------------------------------------------------------------------------------------------------------------------+-----------+-------------------+-------------+---------------------------------------+----------+------+--------+------------+---------+---------+-------------+------------+-----------------+-----------+-------+\n",
      "only showing top 20 rows\n",
      "\n"
     ]
    }
   ],
   "source": [
    "df_na = df_cleaned1.na.drop(subset=[\"Tên Sản Phẩm\"])\n",
    "df_na.show(truncate = False)"
   ]
  },
  {
   "cell_type": "code",
   "execution_count": 15,
   "id": "47353743",
   "metadata": {},
   "outputs": [],
   "source": [
    "#Tìm xem sản phẩm nào trả về nhiều nhất\n",
    "df_sanpham = df_na.groupBy('Tên Sản Phẩm').count() \\\n",
    "  .orderBy(\"count\", ascending=False)"
   ]
  },
  {
   "cell_type": "code",
   "execution_count": 16,
   "id": "81a4bd53",
   "metadata": {},
   "outputs": [
    {
     "name": "stdout",
     "output_type": "stream",
     "text": [
      "+----------------------------------------------------+-----+\n",
      "|Tên Sản Phẩm                                        |count|\n",
      "+----------------------------------------------------+-----+\n",
      "|1 EM7276 Đầm Xoè Tay Lỡ L                           |228  |\n",
      "|1 EM7145 Đầm Xoè Gấm Vân L                          |165  |\n",
      "|1 EM7276 Đầm Xoè Tay Lỡ XL                          |162  |\n",
      "|1 EM7517 Đầm Xoè Đỏ Gấm Taffta L                    |131  |\n",
      "|1 EM7096 Đầm Xoè Xếp Ply Đô Trước L                 |128  |\n",
      "|1 EM7276 Đầm Xoè Tay Lỡ M                           |120  |\n",
      "|1 EM7517 Đầm Xoè Đỏ Gấm Taffta XL                   |119  |\n",
      "|1 EM7145 Đầm Xoè Gấm Vân M                          |118  |\n",
      "|1 LIXI1 Combo 5 Bao Lì Xì                           |118  |\n",
      "|1 EM7178 Đầm Suống A Đen Phối Ren XL                |109  |\n",
      "|1 EM7267 Đầm Xoè Vai Choàng L                       |107  |\n",
      "|1 EM7178 Đầm Suống A Đen Phối Ren L                 |102  |\n",
      "|1 EM7267 Đầm Xoè Vai Choàng XL                      |100  |\n",
      "|1 EM7145 Đầm Xoè Gấm Vân XL                         |87   |\n",
      "|1 EM7517 Đầm Xoè Đỏ Gấm Taffta M                    |81   |\n",
      "|1 EM7531 Đầm Xoè Taffta Ngực Khoét Cong Giọt Nước L |74   |\n",
      "|1 QT1 Quà Tặng Túi Thơm                             |73   |\n",
      "|1 EM7156 Đầm Xoè Xanh Đen Phối Ren L                |70   |\n",
      "|1 EM7096 Đầm Xoè Xếp Ply Đô Trước XL                |69   |\n",
      "|1 EM7531 Đầm Xoè Taffta Ngực Khoét Cong Giọt Nước XL|68   |\n",
      "+----------------------------------------------------+-----+\n",
      "only showing top 20 rows\n",
      "\n"
     ]
    }
   ],
   "source": [
    "df_sanpham.show(20,truncate = False )"
   ]
  },
  {
   "cell_type": "code",
   "execution_count": 17,
   "id": "54246039",
   "metadata": {},
   "outputs": [],
   "source": [
    "#tỉnh thành nào trả về nhiều nhất \n",
    "df_tinh = df_cleaned1.groupBy('Tỉnh Thành') \\\n",
    "    .count() \\\n",
    "    .withColumnRenamed(\"count\", \"Total\") \\\n",
    "    .orderBy(\"Total\", ascending=False)"
   ]
  },
  {
   "cell_type": "code",
   "execution_count": 18,
   "id": "ac68593c",
   "metadata": {},
   "outputs": [
    {
     "name": "stdout",
     "output_type": "stream",
     "text": [
      "+---------------+-----+\n",
      "|Tỉnh Thành     |Total|\n",
      "+---------------+-----+\n",
      "|Hồ Chí Minh    |1419 |\n",
      "|Hà Nội         |1009 |\n",
      "|Đồng Nai       |686  |\n",
      "|Bình Dương     |407  |\n",
      "|Hải Phòng      |345  |\n",
      "|Thanh Hóa      |344  |\n",
      "|Lâm Đồng       |334  |\n",
      "|Nghệ An        |333  |\n",
      "|Khánh Hòa      |314  |\n",
      "|Đắk Lắk        |301  |\n",
      "|Đà Nẵng        |297  |\n",
      "|Gia Lai        |297  |\n",
      "|Bà Rịa Vũng Tàu|296  |\n",
      "|Quảng Nam      |271  |\n",
      "|Quảng Ninh     |271  |\n",
      "|Quảng Ngãi     |266  |\n",
      "|Bình Thuận     |252  |\n",
      "|Bình Phước     |250  |\n",
      "|Quảng Bình     |239  |\n",
      "|Kiên Giang     |219  |\n",
      "|Bình Định      |206  |\n",
      "|Cần Thơ        |205  |\n",
      "|Hải Dương      |203  |\n",
      "|Cà Mau         |177  |\n",
      "|Phú Yên        |176  |\n",
      "|Nam Định       |172  |\n",
      "|Phú Thọ        |158  |\n",
      "|Tây Ninh       |156  |\n",
      "|Hà Tĩnh        |153  |\n",
      "|Thừa Thiên Huế |148  |\n",
      "|Hưng Yên       |147  |\n",
      "|Bắc Ninh       |144  |\n",
      "|Tiền Giang     |141  |\n",
      "|Thái Bình      |140  |\n",
      "|Đắk Nông       |138  |\n",
      "|Long An        |133  |\n",
      "|Bắc Giang      |128  |\n",
      "|Bến Tre        |125  |\n",
      "|Quảng Trị      |120  |\n",
      "|An Giang       |118  |\n",
      "|Ninh Bình      |111  |\n",
      "|Đồng Tháp      |110  |\n",
      "|Thái Nguyên    |109  |\n",
      "|Trà Vinh       |106  |\n",
      "|Sóc Trăng      |99   |\n",
      "|Sơn La         |95   |\n",
      "|Vĩnh Phúc      |95   |\n",
      "|Bạc Liêu       |94   |\n",
      "|Ninh Thuận     |93   |\n",
      "|Hòa Bình       |93   |\n",
      "+---------------+-----+\n",
      "only showing top 50 rows\n",
      "\n"
     ]
    }
   ],
   "source": [
    "df_tinh.show(50,truncate = False )"
   ]
  },
  {
   "cell_type": "code",
   "execution_count": 19,
   "id": "824468ff",
   "metadata": {},
   "outputs": [],
   "source": [
    "#nhân viên bán hàng nào bị trả hàng nhiều nhất \n",
    "df_nv = df_cleaned1.groupBy('Người Xác Nhận') \\\n",
    "    .count() \\\n",
    "    .withColumnRenamed(\"count\", \"Total\") \\\n",
    "    .orderBy(\"Total\", ascending=False)"
   ]
  },
  {
   "cell_type": "code",
   "execution_count": 20,
   "id": "3249ea21",
   "metadata": {},
   "outputs": [
    {
     "name": "stdout",
     "output_type": "stream",
     "text": [
      "+--------------+-----+\n",
      "|Người Xác Nhận|Total|\n",
      "+--------------+-----+\n",
      "|THANHNHAN     |2769 |\n",
      "|HONGVY        |1623 |\n",
      "|TUANTAI       |1586 |\n",
      "|TRUCMAI       |1448 |\n",
      "|system        |1300 |\n",
      "|NGOCLINH      |814  |\n",
      "|ANHKIM        |767  |\n",
      "|GIANGHI       |551  |\n",
      "|NGOCHUYEN     |507  |\n",
      "|NHATHAN       |341  |\n",
      "+--------------+-----+\n",
      "only showing top 10 rows\n",
      "\n"
     ]
    }
   ],
   "source": [
    "df_nv.show(10,truncate = False )"
   ]
  },
  {
   "cell_type": "code",
   "execution_count": 21,
   "id": "3e7438d4",
   "metadata": {},
   "outputs": [],
   "source": [
    "df_cleaned = df.withColumn(\"Ghi Chú\",regexp_replace(col(\"Ghi Chú\"), r\"\\s/\\s\", \" \"))"
   ]
  },
  {
   "cell_type": "code",
   "execution_count": 22,
   "id": "91e4c30b",
   "metadata": {},
   "outputs": [],
   "source": [
    "df_write= df_sanpham.write.option(\"header\", True).csv('Total_Quantity_Of_Each_ Product', mode='overwrite')"
   ]
  },
  {
   "cell_type": "code",
   "execution_count": 23,
   "id": "6ebbf3b2",
   "metadata": {},
   "outputs": [],
   "source": [
    "df_write= df_tinh.write.option(\"header\", True).csv('Total_Product_Per_Province..csv', mode='overwrite')"
   ]
  },
  {
   "cell_type": "code",
   "execution_count": 24,
   "id": "5da4e5ed",
   "metadata": {},
   "outputs": [],
   "source": [
    "df_write= df_nv.write.option(\"header\", True).csv('Total_Product_Per_ Employee.csv', mode='overwrite')"
   ]
  },
  {
   "cell_type": "code",
   "execution_count": 25,
   "id": "6a7740a7",
   "metadata": {},
   "outputs": [],
   "source": [
    "spark.stop()"
   ]
  },
  {
   "cell_type": "code",
   "execution_count": null,
   "id": "a54e23d9",
   "metadata": {},
   "outputs": [],
   "source": []
  }
 ],
 "metadata": {
  "kernelspec": {
   "display_name": "Python 3",
   "language": "python",
   "name": "python3"
  },
  "language_info": {
   "codemirror_mode": {
    "name": "ipython",
    "version": 3
   },
   "file_extension": ".py",
   "mimetype": "text/x-python",
   "name": "python",
   "nbconvert_exporter": "python",
   "pygments_lexer": "ipython3",
   "version": "3.10.0"
  }
 },
 "nbformat": 4,
 "nbformat_minor": 5
}
