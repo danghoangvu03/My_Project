{
 "cells": [
  {
   "cell_type": "code",
   "execution_count": 1,
   "id": "c73551bc",
   "metadata": {},
   "outputs": [
    {
     "name": "stderr",
     "output_type": "stream",
     "text": [
      "Setting default log level to \"WARN\".\n",
      "To adjust logging level use sc.setLogLevel(newLevel). For SparkR, use setLogLevel(newLevel).\n",
      "25/08/22 23:19:58 WARN NativeCodeLoader: Unable to load native-hadoop library for your platform... using builtin-java classes where applicable\n"
     ]
    }
   ],
   "source": [
    "from pyspark.sql import *\n",
    "\n",
    "spark = SparkSession \\\n",
    "    .Builder() \\\n",
    "    .master(\"local[*]\") \\\n",
    "    .appName(\"Filter_Total_Money/Category(RDD)\") \\\n",
    "    .getOrCreate()"
   ]
  },
  {
   "cell_type": "code",
   "execution_count": 2,
   "id": "b71ce0f4",
   "metadata": {},
   "outputs": [
    {
     "name": "stderr",
     "output_type": "stream",
     "text": [
      "                                                                                \r"
     ]
    }
   ],
   "source": [
    "df = spark.read.csv(\"/Users/dangvu/My_Project/Data/products.csv\", header=True, inferSchema=True)"
   ]
  },
  {
   "cell_type": "code",
   "execution_count": 3,
   "id": "75fc4e39",
   "metadata": {},
   "outputs": [
    {
     "data": {
      "text/plain": [
       "[Row(ID='EM9579', Tên sản phẩm='Đầm Suông Đen Phi cc', Giá='750.000\\xa0₫', Liên kết='https://vayemy.vn/chi-tiet/em9579-dam-suong-den-phi-cc', Hình ảnh='https://vayemy.vn/wp-content/uploads/2025/02/z6326384063968_414762ecbb0937ecf29c1e29a3f73f31-247x371.webp'),\n",
       " Row(ID='EM2113', Tên sản phẩm='Đầm Xoè Đỏ Kết Đá', Giá='780.000\\xa0₫', Liên kết='https://vayemy.vn/chi-tiet/em2113-dam-xoe-do-ket-da', Hình ảnh='https://vayemy.vn/wp-content/uploads/2025/02/z6283389324224_11b12d1d2239a2b27442d147e1d9c005-247x371.webp')]"
      ]
     },
     "execution_count": 3,
     "metadata": {},
     "output_type": "execute_result"
    }
   ],
   "source": [
    "df.take(2)"
   ]
  },
  {
   "cell_type": "code",
   "execution_count": 4,
   "id": "aa140f0a",
   "metadata": {},
   "outputs": [],
   "source": [
    "from pyspark.sql.functions import *\n",
    "# Tách \"Danh mục sản phẩm\" từ cột \"Tên sản phẩm\"\n",
    "# => lấy từ đầu tiên (index 0) của chuỗi\n",
    "df_with_category = df.withColumn(\n",
    "    \"Danh mục\",\n",
    "    split(col(\"Tên sản phẩm\"), \" \").getItem(0)\n",
    ")"
   ]
  },
  {
   "cell_type": "code",
   "execution_count": 5,
   "id": "7371cd16",
   "metadata": {},
   "outputs": [
    {
     "name": "stdout",
     "output_type": "stream",
     "text": [
      "+------+--------------------+---------+--------------------+--------------------+--------+\n",
      "|    ID|        Tên sản phẩm|      Giá|            Liên kết|            Hình ảnh|Danh mục|\n",
      "+------+--------------------+---------+--------------------+--------------------+--------+\n",
      "|EM9579|Đầm Suông Đen Phi cc|750.000 ₫|https://vayemy.vn...|https://vayemy.vn...|     Đầm|\n",
      "|EM2113|   Đầm Xoè Đỏ Kết Đá|780.000 ₫|https://vayemy.vn...|https://vayemy.vn...|     Đầm|\n",
      "|EM7669| Đầm Xoè Trắng Linen|780.000 ₫|https://vayemy.vn...|https://vayemy.vn...|     Đầm|\n",
      "|EM9542|Đầm Xoè Phối Hoa ...|640.000 ₫|https://vayemy.vn...|https://vayemy.vn...|     Đầm|\n",
      "|EM9565|Đầm dự tiệc suông...|720.000 ₫|https://vayemy.vn...|https://vayemy.vn...|     Đầm|\n",
      "|EM2096|Đầm Tuyết Cotton ...|750.000 ₫|https://vayemy.vn...|https://vayemy.vn...|     Đầm|\n",
      "|EM9577|   Đầm Xoè A Gấm Hoa|680.000 ₫|https://vayemy.vn...|https://vayemy.vn...|     Đầm|\n",
      "|EM2101|Đầm xoè Gấm Hoa Vàng|750.000 ₫|https://vayemy.vn...|https://vayemy.vn...|     Đầm|\n",
      "|EM2064|   Sắc xanh quý phái|680.000 ₫|https://vayemy.vn...|https://vayemy.vn...|     Sắc|\n",
      "|EM2060|Đầm A Tafta Cổ Vu...|720.000 ₫|https://vayemy.vn...|https://vayemy.vn...|     Đầm|\n",
      "|EM9517|Sự tinh tế và quy...|680.000 ₫|https://vayemy.vn...|https://vayemy.vn...|      Sự|\n",
      "|EM7621|Đầm Xoè Dập Ply P...|720.000 ₫|https://vayemy.vn...|https://vayemy.vn...|     Đầm|\n",
      "|EM7620|Đầm Xoè Đen Tafta...|720.000 ₫|https://vayemy.vn...|https://vayemy.vn...|     Đầm|\n",
      "|EM2047|Đầm Suông Linen X...|680.000 ₫|https://vayemy.vn...|https://vayemy.vn...|     Đầm|\n",
      "|EM7613|    Sườn Xám Đen Hoa|720.000 ₫|https://vayemy.vn...|https://vayemy.vn...|    Sườn|\n",
      "|EM9490|Nét xuân thanh khiết|680.000 ₫|https://vayemy.vn...|https://vayemy.vn...|     Nét|\n",
      "|EM2046|Đầm suông A cổ V ...|680.000 ₫|https://vayemy.vn...|https://vayemy.vn...|     Đầm|\n",
      "|EM7615|Đầm Body Đuôi Cá Đen|680.000 ₫|https://vayemy.vn...|https://vayemy.vn...|     Đầm|\n",
      "|EM7616|Đầm Body Đuôi Cá ...|680.000 ₫|https://vayemy.vn...|https://vayemy.vn...|     Đầm|\n",
      "|EM7611| Đầm Xoè Hoa Dập Ply|720.000 ₫|https://vayemy.vn...|https://vayemy.vn...|     Đầm|\n",
      "+------+--------------------+---------+--------------------+--------------------+--------+\n",
      "only showing top 20 rows\n",
      "\n"
     ]
    }
   ],
   "source": [
    "df_with_category.show()"
   ]
  },
  {
   "cell_type": "code",
   "execution_count": 34,
   "id": "5a0968d7",
   "metadata": {},
   "outputs": [],
   "source": [
    "# Làm sạch giá: bỏ ký tự ₫, dấu . và khoảng trắng đặc biệt, rồi ép sang double\n",
    "df_with_price = df_with_category.withColumn(\n",
    "    \"money\",\n",
    "    regexp_replace(col(\"Giá\"), \"[₫\\\\.\\\\u00A0]\", \"\") \\\n",
    "    .cast(\"double\")\n",
    ")\n"
   ]
  },
  {
   "cell_type": "code",
   "execution_count": 20,
   "id": "dbd45ec0",
   "metadata": {},
   "outputs": [
    {
     "name": "stdout",
     "output_type": "stream",
     "text": [
      "+------+--------------------+---------+--------------------+--------------------+--------+--------+\n",
      "|    ID|        Tên sản phẩm|      Giá|            Liên kết|            Hình ảnh|Danh mục|   money|\n",
      "+------+--------------------+---------+--------------------+--------------------+--------+--------+\n",
      "|EM9579|Đầm Suông Đen Phi cc|750.000 ₫|https://vayemy.vn...|https://vayemy.vn...|     Đầm|750000.0|\n",
      "|EM2113|   Đầm Xoè Đỏ Kết Đá|780.000 ₫|https://vayemy.vn...|https://vayemy.vn...|     Đầm|780000.0|\n",
      "|EM7669| Đầm Xoè Trắng Linen|780.000 ₫|https://vayemy.vn...|https://vayemy.vn...|     Đầm|780000.0|\n",
      "|EM9542|Đầm Xoè Phối Hoa ...|640.000 ₫|https://vayemy.vn...|https://vayemy.vn...|     Đầm|640000.0|\n",
      "|EM9565|Đầm dự tiệc suông...|720.000 ₫|https://vayemy.vn...|https://vayemy.vn...|     Đầm|720000.0|\n",
      "|EM2096|Đầm Tuyết Cotton ...|750.000 ₫|https://vayemy.vn...|https://vayemy.vn...|     Đầm|750000.0|\n",
      "|EM9577|   Đầm Xoè A Gấm Hoa|680.000 ₫|https://vayemy.vn...|https://vayemy.vn...|     Đầm|680000.0|\n",
      "|EM2101|Đầm xoè Gấm Hoa Vàng|750.000 ₫|https://vayemy.vn...|https://vayemy.vn...|     Đầm|750000.0|\n",
      "|EM2064|   Sắc xanh quý phái|680.000 ₫|https://vayemy.vn...|https://vayemy.vn...|     Sắc|680000.0|\n",
      "|EM2060|Đầm A Tafta Cổ Vu...|720.000 ₫|https://vayemy.vn...|https://vayemy.vn...|     Đầm|720000.0|\n",
      "|EM9517|Sự tinh tế và quy...|680.000 ₫|https://vayemy.vn...|https://vayemy.vn...|      Sự|680000.0|\n",
      "|EM7621|Đầm Xoè Dập Ply P...|720.000 ₫|https://vayemy.vn...|https://vayemy.vn...|     Đầm|720000.0|\n",
      "|EM7620|Đầm Xoè Đen Tafta...|720.000 ₫|https://vayemy.vn...|https://vayemy.vn...|     Đầm|720000.0|\n",
      "|EM2047|Đầm Suông Linen X...|680.000 ₫|https://vayemy.vn...|https://vayemy.vn...|     Đầm|680000.0|\n",
      "|EM7613|    Sườn Xám Đen Hoa|720.000 ₫|https://vayemy.vn...|https://vayemy.vn...|    Sườn|720000.0|\n",
      "|EM9490|Nét xuân thanh khiết|680.000 ₫|https://vayemy.vn...|https://vayemy.vn...|     Nét|680000.0|\n",
      "|EM2046|Đầm suông A cổ V ...|680.000 ₫|https://vayemy.vn...|https://vayemy.vn...|     Đầm|680000.0|\n",
      "|EM7615|Đầm Body Đuôi Cá Đen|680.000 ₫|https://vayemy.vn...|https://vayemy.vn...|     Đầm|680000.0|\n",
      "|EM7616|Đầm Body Đuôi Cá ...|680.000 ₫|https://vayemy.vn...|https://vayemy.vn...|     Đầm|680000.0|\n",
      "|EM7611| Đầm Xoè Hoa Dập Ply|720.000 ₫|https://vayemy.vn...|https://vayemy.vn...|     Đầm|720000.0|\n",
      "+------+--------------------+---------+--------------------+--------------------+--------+--------+\n",
      "only showing top 20 rows\n",
      "\n"
     ]
    }
   ],
   "source": [
    "df_with_price.show()"
   ]
  },
  {
   "cell_type": "code",
   "execution_count": 35,
   "id": "592eccf3",
   "metadata": {},
   "outputs": [
    {
     "data": {
      "text/plain": [
       "DataFrame[Danh mục: string, money: double]"
      ]
     },
     "execution_count": 35,
     "metadata": {},
     "output_type": "execute_result"
    }
   ],
   "source": [
    "# Giữ cặp (Danh mục sản phẩm, Giá)\n",
    "df_with_price.select(\"Danh mục\", \"money\")"
   ]
  },
  {
   "cell_type": "code",
   "execution_count": 36,
   "id": "ea9c1b60",
   "metadata": {},
   "outputs": [
    {
     "name": "stdout",
     "output_type": "stream",
     "text": [
      "+------+--------------------+---------+--------------------+--------------------+--------+--------+\n",
      "|    ID|        Tên sản phẩm|      Giá|            Liên kết|            Hình ảnh|Danh mục|   money|\n",
      "+------+--------------------+---------+--------------------+--------------------+--------+--------+\n",
      "|EM9579|Đầm Suông Đen Phi cc|750.000 ₫|https://vayemy.vn...|https://vayemy.vn...|     Đầm|750000.0|\n",
      "|EM2113|   Đầm Xoè Đỏ Kết Đá|780.000 ₫|https://vayemy.vn...|https://vayemy.vn...|     Đầm|780000.0|\n",
      "|EM7669| Đầm Xoè Trắng Linen|780.000 ₫|https://vayemy.vn...|https://vayemy.vn...|     Đầm|780000.0|\n",
      "|EM9542|Đầm Xoè Phối Hoa ...|640.000 ₫|https://vayemy.vn...|https://vayemy.vn...|     Đầm|640000.0|\n",
      "|EM9565|Đầm dự tiệc suông...|720.000 ₫|https://vayemy.vn...|https://vayemy.vn...|     Đầm|720000.0|\n",
      "|EM2096|Đầm Tuyết Cotton ...|750.000 ₫|https://vayemy.vn...|https://vayemy.vn...|     Đầm|750000.0|\n",
      "|EM9577|   Đầm Xoè A Gấm Hoa|680.000 ₫|https://vayemy.vn...|https://vayemy.vn...|     Đầm|680000.0|\n",
      "|EM2101|Đầm xoè Gấm Hoa Vàng|750.000 ₫|https://vayemy.vn...|https://vayemy.vn...|     Đầm|750000.0|\n",
      "|EM2064|   Sắc xanh quý phái|680.000 ₫|https://vayemy.vn...|https://vayemy.vn...|     Sắc|680000.0|\n",
      "|EM2060|Đầm A Tafta Cổ Vu...|720.000 ₫|https://vayemy.vn...|https://vayemy.vn...|     Đầm|720000.0|\n",
      "|EM9517|Sự tinh tế và quy...|680.000 ₫|https://vayemy.vn...|https://vayemy.vn...|      Sự|680000.0|\n",
      "|EM7621|Đầm Xoè Dập Ply P...|720.000 ₫|https://vayemy.vn...|https://vayemy.vn...|     Đầm|720000.0|\n",
      "|EM7620|Đầm Xoè Đen Tafta...|720.000 ₫|https://vayemy.vn...|https://vayemy.vn...|     Đầm|720000.0|\n",
      "|EM2047|Đầm Suông Linen X...|680.000 ₫|https://vayemy.vn...|https://vayemy.vn...|     Đầm|680000.0|\n",
      "|EM7613|    Sườn Xám Đen Hoa|720.000 ₫|https://vayemy.vn...|https://vayemy.vn...|    Sườn|720000.0|\n",
      "|EM9490|Nét xuân thanh khiết|680.000 ₫|https://vayemy.vn...|https://vayemy.vn...|     Nét|680000.0|\n",
      "|EM2046|Đầm suông A cổ V ...|680.000 ₫|https://vayemy.vn...|https://vayemy.vn...|     Đầm|680000.0|\n",
      "|EM7615|Đầm Body Đuôi Cá Đen|680.000 ₫|https://vayemy.vn...|https://vayemy.vn...|     Đầm|680000.0|\n",
      "|EM7616|Đầm Body Đuôi Cá ...|680.000 ₫|https://vayemy.vn...|https://vayemy.vn...|     Đầm|680000.0|\n",
      "|EM7611| Đầm Xoè Hoa Dập Ply|720.000 ₫|https://vayemy.vn...|https://vayemy.vn...|     Đầm|720000.0|\n",
      "+------+--------------------+---------+--------------------+--------------------+--------+--------+\n",
      "only showing top 20 rows\n",
      "\n"
     ]
    }
   ],
   "source": [
    "df_with_price.show()"
   ]
  },
  {
   "cell_type": "code",
   "execution_count": 37,
   "id": "f06bb081",
   "metadata": {},
   "outputs": [],
   "source": [
    "# Gom nhóm và tính tổng tiền\n",
    "df_total = df_with_price.groupBy(\"Danh mục\") \\\n",
    "    .agg(sum(\"money\").alias(\"total_money\"))\n"
   ]
  },
  {
   "cell_type": "code",
   "execution_count": 38,
   "id": "91bf5645",
   "metadata": {},
   "outputs": [
    {
     "name": "stdout",
     "output_type": "stream",
     "text": [
      "+--------+-----------+\n",
      "|Danh mục|total_money|\n",
      "+--------+-----------+\n",
      "|      Sự|   680000.0|\n",
      "|     Sét|  1430000.0|\n",
      "|    body|   640000.0|\n",
      "|     Nét|   680000.0|\n",
      "|      Áo|  1230000.0|\n",
      "|     Sắc|   680000.0|\n",
      "|     Jum|   750000.0|\n",
      "|    Chân|   900000.0|\n",
      "|     Đầm|    3.448E7|\n",
      "|    Sườn|   720000.0|\n",
      "|     Xoè|  1360000.0|\n",
      "+--------+-----------+\n",
      "\n"
     ]
    }
   ],
   "source": [
    "df_total.show()"
   ]
  },
  {
   "cell_type": "code",
   "execution_count": null,
   "id": "3d0ba9f8",
   "metadata": {},
   "outputs": [
    {
     "name": "stdout",
     "output_type": "stream",
     "text": [
      "+--------+-----------+\n",
      "|Danh mục|total_money|\n",
      "+--------+-----------+\n",
      "|Đầm     |3.448E7    |\n",
      "+--------+-----------+\n",
      "\n"
     ]
    }
   ],
   "source": [
    "# Lọc theo total_money > 2 triệu\n",
    "df_filtered = df_total.filter(col(\"total_money\") > 20000000)\n",
    "\n",
    "df_filtered.show(10, truncate=False)"
   ]
  },
  {
   "cell_type": "code",
   "execution_count": 40,
   "id": "e2fa6068",
   "metadata": {},
   "outputs": [],
   "source": [
    "spark.stop()"
   ]
  },
  {
   "cell_type": "code",
   "execution_count": null,
   "id": "1adab54b",
   "metadata": {},
   "outputs": [],
   "source": []
  }
 ],
 "metadata": {
  "kernelspec": {
   "display_name": "Python 3",
   "language": "python",
   "name": "python3"
  },
  "language_info": {
   "codemirror_mode": {
    "name": "ipython",
    "version": 3
   },
   "file_extension": ".py",
   "mimetype": "text/x-python",
   "name": "python",
   "nbconvert_exporter": "python",
   "pygments_lexer": "ipython3",
   "version": "3.13.2"
  }
 },
 "nbformat": 4,
 "nbformat_minor": 5
}
